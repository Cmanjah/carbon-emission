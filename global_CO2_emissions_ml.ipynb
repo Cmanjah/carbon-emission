{
 "cells": [
  {
   "cell_type": "code",
   "execution_count": 62,
   "metadata": {},
   "outputs": [],
   "source": [
    "# Import some libraries\n",
    "import numpy as npy\n",
    "import pandas as pds\n",
    "import matplotlib.pyplot as plt"
   ]
  },
  {
   "cell_type": "code",
   "execution_count": 63,
   "metadata": {},
   "outputs": [
    {
     "data": {
      "text/html": [
       "<div>\n",
       "<style scoped>\n",
       "    .dataframe tbody tr th:only-of-type {\n",
       "        vertical-align: middle;\n",
       "    }\n",
       "\n",
       "    .dataframe tbody tr th {\n",
       "        vertical-align: top;\n",
       "    }\n",
       "\n",
       "    .dataframe thead th {\n",
       "        text-align: right;\n",
       "    }\n",
       "</style>\n",
       "<table border=\"1\" class=\"dataframe\">\n",
       "  <thead>\n",
       "    <tr style=\"text-align: right;\">\n",
       "      <th></th>\n",
       "      <th>Year</th>\n",
       "      <th>Agriculture, Fishing and Forestry</th>\n",
       "      <th>Consumable Product</th>\n",
       "      <th>Defence and Security</th>\n",
       "      <th>Direct Industrial product</th>\n",
       "      <th>Energy sources</th>\n",
       "      <th>Engineering, Machinery and Equipment</th>\n",
       "      <th>Health, Finance and Education</th>\n",
       "      <th>Housing and Entertainment Services</th>\n",
       "      <th>Mining Product and Activities</th>\n",
       "      <th>Other industry and services</th>\n",
       "      <th>Technology and Communication Activities</th>\n",
       "      <th>Transport</th>\n",
       "      <th>Waste</th>\n",
       "      <th>GDP (Billion US Dollars)</th>\n",
       "    </tr>\n",
       "  </thead>\n",
       "  <tbody>\n",
       "    <tr>\n",
       "      <th>0</th>\n",
       "      <td>1995-01-01</td>\n",
       "      <td>359.649389</td>\n",
       "      <td>376.594487</td>\n",
       "      <td>153.550946</td>\n",
       "      <td>1197.997726</td>\n",
       "      <td>6250.66963</td>\n",
       "      <td>464.305545</td>\n",
       "      <td>146.846622</td>\n",
       "      <td>140.606581</td>\n",
       "      <td>618.499748</td>\n",
       "      <td>246.796681</td>\n",
       "      <td>182.340372</td>\n",
       "      <td>852.606143</td>\n",
       "      <td>323.266921</td>\n",
       "      <td>31048.48</td>\n",
       "    </tr>\n",
       "    <tr>\n",
       "      <th>1</th>\n",
       "      <td>1995-01-02</td>\n",
       "      <td>359.649389</td>\n",
       "      <td>376.594487</td>\n",
       "      <td>153.550946</td>\n",
       "      <td>1197.997726</td>\n",
       "      <td>6250.66963</td>\n",
       "      <td>464.305545</td>\n",
       "      <td>146.846622</td>\n",
       "      <td>140.606581</td>\n",
       "      <td>618.499748</td>\n",
       "      <td>246.796681</td>\n",
       "      <td>182.340372</td>\n",
       "      <td>852.606143</td>\n",
       "      <td>323.266921</td>\n",
       "      <td>31048.48</td>\n",
       "    </tr>\n",
       "    <tr>\n",
       "      <th>2</th>\n",
       "      <td>1995-01-03</td>\n",
       "      <td>359.649389</td>\n",
       "      <td>376.594487</td>\n",
       "      <td>153.550946</td>\n",
       "      <td>1197.997726</td>\n",
       "      <td>6250.66963</td>\n",
       "      <td>464.305545</td>\n",
       "      <td>146.846622</td>\n",
       "      <td>140.606581</td>\n",
       "      <td>618.499748</td>\n",
       "      <td>246.796681</td>\n",
       "      <td>182.340372</td>\n",
       "      <td>852.606143</td>\n",
       "      <td>323.266921</td>\n",
       "      <td>31048.48</td>\n",
       "    </tr>\n",
       "    <tr>\n",
       "      <th>3</th>\n",
       "      <td>1995-01-04</td>\n",
       "      <td>359.649389</td>\n",
       "      <td>376.594487</td>\n",
       "      <td>153.550946</td>\n",
       "      <td>1197.997726</td>\n",
       "      <td>6250.66963</td>\n",
       "      <td>464.305545</td>\n",
       "      <td>146.846622</td>\n",
       "      <td>140.606581</td>\n",
       "      <td>618.499748</td>\n",
       "      <td>246.796681</td>\n",
       "      <td>182.340372</td>\n",
       "      <td>852.606143</td>\n",
       "      <td>323.266921</td>\n",
       "      <td>31048.48</td>\n",
       "    </tr>\n",
       "    <tr>\n",
       "      <th>4</th>\n",
       "      <td>1995-01-05</td>\n",
       "      <td>359.649389</td>\n",
       "      <td>376.594487</td>\n",
       "      <td>153.550946</td>\n",
       "      <td>1197.997726</td>\n",
       "      <td>6250.66963</td>\n",
       "      <td>464.305545</td>\n",
       "      <td>146.846622</td>\n",
       "      <td>140.606581</td>\n",
       "      <td>618.499748</td>\n",
       "      <td>246.796681</td>\n",
       "      <td>182.340372</td>\n",
       "      <td>852.606143</td>\n",
       "      <td>323.266921</td>\n",
       "      <td>31048.48</td>\n",
       "    </tr>\n",
       "  </tbody>\n",
       "</table>\n",
       "</div>"
      ],
      "text/plain": [
       "         Year  Agriculture, Fishing and Forestry  Consumable Product  \\\n",
       "0  1995-01-01                         359.649389          376.594487   \n",
       "1  1995-01-02                         359.649389          376.594487   \n",
       "2  1995-01-03                         359.649389          376.594487   \n",
       "3  1995-01-04                         359.649389          376.594487   \n",
       "4  1995-01-05                         359.649389          376.594487   \n",
       "\n",
       "   Defence and Security  Direct Industrial product  Energy sources  \\\n",
       "0            153.550946                1197.997726      6250.66963   \n",
       "1            153.550946                1197.997726      6250.66963   \n",
       "2            153.550946                1197.997726      6250.66963   \n",
       "3            153.550946                1197.997726      6250.66963   \n",
       "4            153.550946                1197.997726      6250.66963   \n",
       "\n",
       "   Engineering, Machinery and Equipment  Health, Finance and Education  \\\n",
       "0                            464.305545                     146.846622   \n",
       "1                            464.305545                     146.846622   \n",
       "2                            464.305545                     146.846622   \n",
       "3                            464.305545                     146.846622   \n",
       "4                            464.305545                     146.846622   \n",
       "\n",
       "   Housing and Entertainment Services  Mining Product and Activities  \\\n",
       "0                          140.606581                     618.499748   \n",
       "1                          140.606581                     618.499748   \n",
       "2                          140.606581                     618.499748   \n",
       "3                          140.606581                     618.499748   \n",
       "4                          140.606581                     618.499748   \n",
       "\n",
       "   Other industry and services  Technology and Communication Activities  \\\n",
       "0                   246.796681                               182.340372   \n",
       "1                   246.796681                               182.340372   \n",
       "2                   246.796681                               182.340372   \n",
       "3                   246.796681                               182.340372   \n",
       "4                   246.796681                               182.340372   \n",
       "\n",
       "    Transport       Waste  GDP (Billion US Dollars)  \n",
       "0  852.606143  323.266921                  31048.48  \n",
       "1  852.606143  323.266921                  31048.48  \n",
       "2  852.606143  323.266921                  31048.48  \n",
       "3  852.606143  323.266921                  31048.48  \n",
       "4  852.606143  323.266921                  31048.48  "
      ]
     },
     "execution_count": 63,
     "metadata": {},
     "output_type": "execute_result"
    }
   ],
   "source": [
    "# Load the Preprocessed data\n",
    "# df_preprocessed = pds.read_csv('../../dataset/global_CO2_emissions/global_CO2_emmissions_preprocessed.csv')\n",
    "df_preprocessed = pds.read_csv('../../dataset/global_CO2_emissions/world_gdp_with_focus_on_industries_preprocessed.csv')\n",
    "df_preprocessed.head()"
   ]
  },
  {
   "cell_type": "markdown",
   "metadata": {},
   "source": [
    "##### FEATURE SCALING"
   ]
  },
  {
   "cell_type": "code",
   "execution_count": 64,
   "metadata": {},
   "outputs": [
    {
     "data": {
      "text/html": [
       "<div>\n",
       "<style scoped>\n",
       "    .dataframe tbody tr th:only-of-type {\n",
       "        vertical-align: middle;\n",
       "    }\n",
       "\n",
       "    .dataframe tbody tr th {\n",
       "        vertical-align: top;\n",
       "    }\n",
       "\n",
       "    .dataframe thead th {\n",
       "        text-align: right;\n",
       "    }\n",
       "</style>\n",
       "<table border=\"1\" class=\"dataframe\">\n",
       "  <thead>\n",
       "    <tr style=\"text-align: right;\">\n",
       "      <th></th>\n",
       "      <th>0</th>\n",
       "      <th>1</th>\n",
       "      <th>2</th>\n",
       "      <th>3</th>\n",
       "      <th>4</th>\n",
       "      <th>5</th>\n",
       "      <th>6</th>\n",
       "      <th>7</th>\n",
       "      <th>8</th>\n",
       "      <th>9</th>\n",
       "      <th>10</th>\n",
       "      <th>11</th>\n",
       "      <th>12</th>\n",
       "      <th>13</th>\n",
       "    </tr>\n",
       "  </thead>\n",
       "  <tbody>\n",
       "    <tr>\n",
       "      <th>0</th>\n",
       "      <td>1.307163</td>\n",
       "      <td>1.457337</td>\n",
       "      <td>1.609268</td>\n",
       "      <td>1.723681</td>\n",
       "      <td>1.155319</td>\n",
       "      <td>1.541014</td>\n",
       "      <td>1.578346</td>\n",
       "      <td>1.511223</td>\n",
       "      <td>1.814661</td>\n",
       "      <td>1.483151</td>\n",
       "      <td>1.543528</td>\n",
       "      <td>1.173025</td>\n",
       "      <td>1.38098</td>\n",
       "      <td>-1.201362</td>\n",
       "    </tr>\n",
       "    <tr>\n",
       "      <th>1</th>\n",
       "      <td>1.307163</td>\n",
       "      <td>1.457337</td>\n",
       "      <td>1.609268</td>\n",
       "      <td>1.723681</td>\n",
       "      <td>1.155319</td>\n",
       "      <td>1.541014</td>\n",
       "      <td>1.578346</td>\n",
       "      <td>1.511223</td>\n",
       "      <td>1.814661</td>\n",
       "      <td>1.483151</td>\n",
       "      <td>1.543528</td>\n",
       "      <td>1.173025</td>\n",
       "      <td>1.38098</td>\n",
       "      <td>-1.201362</td>\n",
       "    </tr>\n",
       "    <tr>\n",
       "      <th>2</th>\n",
       "      <td>1.307163</td>\n",
       "      <td>1.457337</td>\n",
       "      <td>1.609268</td>\n",
       "      <td>1.723681</td>\n",
       "      <td>1.155319</td>\n",
       "      <td>1.541014</td>\n",
       "      <td>1.578346</td>\n",
       "      <td>1.511223</td>\n",
       "      <td>1.814661</td>\n",
       "      <td>1.483151</td>\n",
       "      <td>1.543528</td>\n",
       "      <td>1.173025</td>\n",
       "      <td>1.38098</td>\n",
       "      <td>-1.201362</td>\n",
       "    </tr>\n",
       "    <tr>\n",
       "      <th>3</th>\n",
       "      <td>1.307163</td>\n",
       "      <td>1.457337</td>\n",
       "      <td>1.609268</td>\n",
       "      <td>1.723681</td>\n",
       "      <td>1.155319</td>\n",
       "      <td>1.541014</td>\n",
       "      <td>1.578346</td>\n",
       "      <td>1.511223</td>\n",
       "      <td>1.814661</td>\n",
       "      <td>1.483151</td>\n",
       "      <td>1.543528</td>\n",
       "      <td>1.173025</td>\n",
       "      <td>1.38098</td>\n",
       "      <td>-1.201362</td>\n",
       "    </tr>\n",
       "    <tr>\n",
       "      <th>4</th>\n",
       "      <td>1.307163</td>\n",
       "      <td>1.457337</td>\n",
       "      <td>1.609268</td>\n",
       "      <td>1.723681</td>\n",
       "      <td>1.155319</td>\n",
       "      <td>1.541014</td>\n",
       "      <td>1.578346</td>\n",
       "      <td>1.511223</td>\n",
       "      <td>1.814661</td>\n",
       "      <td>1.483151</td>\n",
       "      <td>1.543528</td>\n",
       "      <td>1.173025</td>\n",
       "      <td>1.38098</td>\n",
       "      <td>-1.201362</td>\n",
       "    </tr>\n",
       "  </tbody>\n",
       "</table>\n",
       "</div>"
      ],
      "text/plain": [
       "         0         1         2         3         4         5         6   \\\n",
       "0  1.307163  1.457337  1.609268  1.723681  1.155319  1.541014  1.578346   \n",
       "1  1.307163  1.457337  1.609268  1.723681  1.155319  1.541014  1.578346   \n",
       "2  1.307163  1.457337  1.609268  1.723681  1.155319  1.541014  1.578346   \n",
       "3  1.307163  1.457337  1.609268  1.723681  1.155319  1.541014  1.578346   \n",
       "4  1.307163  1.457337  1.609268  1.723681  1.155319  1.541014  1.578346   \n",
       "\n",
       "         7         8         9         10        11       12        13  \n",
       "0  1.511223  1.814661  1.483151  1.543528  1.173025  1.38098 -1.201362  \n",
       "1  1.511223  1.814661  1.483151  1.543528  1.173025  1.38098 -1.201362  \n",
       "2  1.511223  1.814661  1.483151  1.543528  1.173025  1.38098 -1.201362  \n",
       "3  1.511223  1.814661  1.483151  1.543528  1.173025  1.38098 -1.201362  \n",
       "4  1.511223  1.814661  1.483151  1.543528  1.173025  1.38098 -1.201362  "
      ]
     },
     "execution_count": 64,
     "metadata": {},
     "output_type": "execute_result"
    }
   ],
   "source": [
    "# Scale the numerical variables i.e, between 0 and 1\n",
    "from sklearn.preprocessing import Normalizer\n",
    "from sklearn.preprocessing import StandardScaler\n",
    "\n",
    "scaler = StandardScaler()\n",
    "df_prep_scaled = scaler.fit_transform(df_preprocessed[df_preprocessed.columns[1:]])\n",
    "# df_preprocessed[df_preprocessed.columns[1:]] = scaler.fit_transform(df_preprocessed[df_preprocessed.columns[1:]])\n",
    "# df_prep_scaled = df_preprocessed.copy()\n",
    "df_prep_scaled\n",
    "\n",
    "# Convert a numpy array to a pandas dataframe\n",
    "df_prep_scaled = pds.DataFrame(df_prep_scaled)\n",
    "df_prep_scaled.head()"
   ]
  },
  {
   "cell_type": "code",
   "execution_count": 65,
   "metadata": {},
   "outputs": [],
   "source": [
    "# Standard Scaling on only the Numerical. X_train standardizing the range - btw 1 to -1\n",
    "from sklearn.preprocessing import StandardScaler\n",
    "scaler_standard = StandardScaler()\n",
    "df_stan_scaled = scaler_standard.fit_transform(df_preprocessed[df_preprocessed.columns[1:]])\n",
    "# X_train = scaler_standard.fit_transform(df_preprocessed)\n",
    "#y_train = scaler_standard.fit_transform(y_df_train)\n"
   ]
  },
  {
   "cell_type": "code",
   "execution_count": 66,
   "metadata": {},
   "outputs": [],
   "source": [
    "# MinMax Scaling on only the Numerical. X_train scaled btw 0 to 1\n",
    "from sklearn.preprocessing import MinMaxScaler\n",
    "scaler_minMax = MinMaxScaler()\n",
    "df_mmax_scaled = scaler_minMax.fit_transform(df_preprocessed[df_preprocessed.columns[1:]])\n",
    "# X_train = scaler_minMax.fit_transform(X_df_train)\n",
    "# X_test = scaler_minMax.transform(X_df_test)\n"
   ]
  },
  {
   "cell_type": "code",
   "execution_count": 67,
   "metadata": {},
   "outputs": [],
   "source": [
    "# One Hot Encoder on the target values i.e., y_train\n",
    "# To transform strickly Categorical feature to Numerical\n",
    "from sklearn.preprocessing import Normalizer\n",
    "encoder_norm = Normalizer()\n",
    "df_normal = encoder_norm.fit(df_preprocessed[df_preprocessed.columns[1:]])"
   ]
  },
  {
   "cell_type": "code",
   "execution_count": 68,
   "metadata": {},
   "outputs": [],
   "source": [
    "# One Hot Encoder on the target values i.e., y_train\n",
    "# To transform strickly Categorical feature to Numerical\n",
    "# from sklearn.preprocessing import OneHotEncoder\n",
    "# encoder_oneHot = OneHotEncoder()\n",
    "# y_train_enc_o = encoder_oneHot.fit_transform(y_df_train)"
   ]
  },
  {
   "cell_type": "markdown",
   "metadata": {},
   "source": [
    "##### DATA SPLIT- Training and Validation sets"
   ]
  },
  {
   "cell_type": "code",
   "execution_count": 69,
   "metadata": {},
   "outputs": [
    {
     "name": "stdout",
     "output_type": "stream",
     "text": [
      "************ Temporal Split ***************\n",
      "Temporal:  (8402, 13) (8402, 1)\n"
     ]
    }
   ],
   "source": [
    "#Separate target from predictors\n",
    "X_temp, y_temp = df_prep_scaled.iloc[:, :-1], df_prep_scaled.iloc[:, -1:]\n",
    "# Alternatively, \n",
    "#X_df_train, y_df_train = pds.DataFrame(df_prep_scaled.drop(['F2018'],axis=1)), df_prep_scaled.Activity.values.astype(object)\n",
    "# Get the shape\n",
    "print('************ Temporal Split ***************')\n",
    "print('Temporal: ', X_temp.shape, y_temp.shape)"
   ]
  },
  {
   "cell_type": "code",
   "execution_count": null,
   "metadata": {},
   "outputs": [
    {
     "name": "stdout",
     "output_type": "stream",
     "text": [
      "************  Training and Validation Split ***************\n",
      "Train dataset:  ((6721, 13), (6721, 1))\n",
      "Validation dataset:  ((1681, 13), (1681, 1))\n"
     ]
    }
   ],
   "source": [
    "from sklearn.model_selection import train_test_split\n",
    "X_train, X_test, y_train, y_test = train_test_split(X_temp, y_temp, test_size=0.20,random_state=42)\n",
    "\n",
    "print('************  Training and Validation Split ***************')\n",
    "print(\"Train dataset: \", (X_train.shape, y_train.shape)) \n",
    "print(\"Validation dataset: \", (X_test.shape, y_test.shape))"
   ]
  },
  {
   "attachments": {},
   "cell_type": "markdown",
   "metadata": {},
   "source": [
    "### LSTM MODEL"
   ]
  },
  {
   "cell_type": "code",
   "execution_count": 70,
   "metadata": {},
   "outputs": [
    {
     "name": "stdout",
     "output_type": "stream",
     "text": [
      "Requirement already satisfied: tensorflow in /usr/local/python/3.10.4/lib/python3.10/site-packages (2.11.0)\n",
      "Requirement already satisfied: keras in /usr/local/python/3.10.4/lib/python3.10/site-packages (2.11.0)\n",
      "Requirement already satisfied: numpy>=1.20 in /home/codespace/.local/lib/python3.10/site-packages (from tensorflow) (1.24.2)\n",
      "Requirement already satisfied: astunparse>=1.6.0 in /usr/local/python/3.10.4/lib/python3.10/site-packages (from tensorflow) (1.6.3)\n",
      "Requirement already satisfied: setuptools in /usr/local/python/3.10.4/lib/python3.10/site-packages (from tensorflow) (58.1.0)\n",
      "Requirement already satisfied: google-pasta>=0.1.1 in /usr/local/python/3.10.4/lib/python3.10/site-packages (from tensorflow) (0.2.0)\n",
      "Requirement already satisfied: six>=1.12.0 in /home/codespace/.local/lib/python3.10/site-packages (from tensorflow) (1.16.0)\n",
      "Requirement already satisfied: grpcio<2.0,>=1.24.3 in /usr/local/python/3.10.4/lib/python3.10/site-packages (from tensorflow) (1.51.3)\n",
      "Requirement already satisfied: protobuf<3.20,>=3.9.2 in /usr/local/python/3.10.4/lib/python3.10/site-packages (from tensorflow) (3.19.6)\n",
      "Requirement already satisfied: libclang>=13.0.0 in /usr/local/python/3.10.4/lib/python3.10/site-packages (from tensorflow) (15.0.6.1)\n",
      "Requirement already satisfied: tensorflow-estimator<2.12,>=2.11.0 in /usr/local/python/3.10.4/lib/python3.10/site-packages (from tensorflow) (2.11.0)\n",
      "Requirement already satisfied: packaging in /home/codespace/.local/lib/python3.10/site-packages (from tensorflow) (23.0)\n",
      "Requirement already satisfied: wrapt>=1.11.0 in /usr/local/python/3.10.4/lib/python3.10/site-packages (from tensorflow) (1.15.0)\n",
      "Requirement already satisfied: termcolor>=1.1.0 in /usr/local/python/3.10.4/lib/python3.10/site-packages (from tensorflow) (2.2.0)\n",
      "Requirement already satisfied: tensorboard<2.12,>=2.11 in /usr/local/python/3.10.4/lib/python3.10/site-packages (from tensorflow) (2.11.2)\n",
      "Requirement already satisfied: typing-extensions>=3.6.6 in /home/codespace/.local/lib/python3.10/site-packages (from tensorflow) (4.5.0)\n",
      "Requirement already satisfied: absl-py>=1.0.0 in /usr/local/python/3.10.4/lib/python3.10/site-packages (from tensorflow) (1.4.0)\n",
      "Requirement already satisfied: tensorflow-io-gcs-filesystem>=0.23.1 in /usr/local/python/3.10.4/lib/python3.10/site-packages (from tensorflow) (0.31.0)\n",
      "Requirement already satisfied: gast<=0.4.0,>=0.2.1 in /usr/local/python/3.10.4/lib/python3.10/site-packages (from tensorflow) (0.4.0)\n",
      "Requirement already satisfied: opt-einsum>=2.3.2 in /usr/local/python/3.10.4/lib/python3.10/site-packages (from tensorflow) (3.3.0)\n",
      "Requirement already satisfied: flatbuffers>=2.0 in /usr/local/python/3.10.4/lib/python3.10/site-packages (from tensorflow) (23.1.21)\n",
      "Requirement already satisfied: h5py>=2.9.0 in /usr/local/python/3.10.4/lib/python3.10/site-packages (from tensorflow) (3.8.0)\n",
      "Requirement already satisfied: wheel<1.0,>=0.23.0 in /home/codespace/.local/lib/python3.10/site-packages (from astunparse>=1.6.0->tensorflow) (0.38.4)\n",
      "Requirement already satisfied: tensorboard-plugin-wit>=1.6.0 in /usr/local/python/3.10.4/lib/python3.10/site-packages (from tensorboard<2.12,>=2.11->tensorflow) (1.8.1)\n",
      "Requirement already satisfied: google-auth<3,>=1.6.3 in /usr/local/python/3.10.4/lib/python3.10/site-packages (from tensorboard<2.12,>=2.11->tensorflow) (2.16.1)\n",
      "Requirement already satisfied: werkzeug>=1.0.1 in /usr/local/python/3.10.4/lib/python3.10/site-packages (from tensorboard<2.12,>=2.11->tensorflow) (2.2.3)\n",
      "Requirement already satisfied: google-auth-oauthlib<0.5,>=0.4.1 in /usr/local/python/3.10.4/lib/python3.10/site-packages (from tensorboard<2.12,>=2.11->tensorflow) (0.4.6)\n",
      "Requirement already satisfied: tensorboard-data-server<0.7.0,>=0.6.0 in /usr/local/python/3.10.4/lib/python3.10/site-packages (from tensorboard<2.12,>=2.11->tensorflow) (0.6.1)\n",
      "Requirement already satisfied: markdown>=2.6.8 in /usr/local/python/3.10.4/lib/python3.10/site-packages (from tensorboard<2.12,>=2.11->tensorflow) (3.4.1)\n",
      "Requirement already satisfied: requests<3,>=2.21.0 in /home/codespace/.local/lib/python3.10/site-packages (from tensorboard<2.12,>=2.11->tensorflow) (2.28.2)\n",
      "Requirement already satisfied: cachetools<6.0,>=2.0.0 in /usr/local/python/3.10.4/lib/python3.10/site-packages (from google-auth<3,>=1.6.3->tensorboard<2.12,>=2.11->tensorflow) (5.3.0)\n",
      "Requirement already satisfied: rsa<5,>=3.1.4 in /usr/local/python/3.10.4/lib/python3.10/site-packages (from google-auth<3,>=1.6.3->tensorboard<2.12,>=2.11->tensorflow) (4.9)\n",
      "Requirement already satisfied: pyasn1-modules>=0.2.1 in /usr/local/python/3.10.4/lib/python3.10/site-packages (from google-auth<3,>=1.6.3->tensorboard<2.12,>=2.11->tensorflow) (0.2.8)\n",
      "Requirement already satisfied: requests-oauthlib>=0.7.0 in /usr/local/python/3.10.4/lib/python3.10/site-packages (from google-auth-oauthlib<0.5,>=0.4.1->tensorboard<2.12,>=2.11->tensorflow) (1.3.1)\n",
      "Requirement already satisfied: idna<4,>=2.5 in /home/codespace/.local/lib/python3.10/site-packages (from requests<3,>=2.21.0->tensorboard<2.12,>=2.11->tensorflow) (3.4)\n",
      "Requirement already satisfied: charset-normalizer<4,>=2 in /home/codespace/.local/lib/python3.10/site-packages (from requests<3,>=2.21.0->tensorboard<2.12,>=2.11->tensorflow) (3.0.1)\n",
      "Requirement already satisfied: certifi>=2017.4.17 in /home/codespace/.local/lib/python3.10/site-packages (from requests<3,>=2.21.0->tensorboard<2.12,>=2.11->tensorflow) (2022.12.7)\n",
      "Requirement already satisfied: urllib3<1.27,>=1.21.1 in /home/codespace/.local/lib/python3.10/site-packages (from requests<3,>=2.21.0->tensorboard<2.12,>=2.11->tensorflow) (1.26.14)\n",
      "Requirement already satisfied: MarkupSafe>=2.1.1 in /home/codespace/.local/lib/python3.10/site-packages (from werkzeug>=1.0.1->tensorboard<2.12,>=2.11->tensorflow) (2.1.2)\n",
      "Requirement already satisfied: pyasn1<0.5.0,>=0.4.6 in /usr/local/python/3.10.4/lib/python3.10/site-packages (from pyasn1-modules>=0.2.1->google-auth<3,>=1.6.3->tensorboard<2.12,>=2.11->tensorflow) (0.4.8)\n",
      "Requirement already satisfied: oauthlib>=3.0.0 in /usr/local/python/3.10.4/lib/python3.10/site-packages (from requests-oauthlib>=0.7.0->google-auth-oauthlib<0.5,>=0.4.1->tensorboard<2.12,>=2.11->tensorflow) (3.2.2)\n",
      "Note: you may need to restart the kernel to use updated packages.\n"
     ]
    }
   ],
   "source": [
    "%pip install tensorflow keras"
   ]
  },
  {
   "cell_type": "code",
   "execution_count": 71,
   "metadata": {},
   "outputs": [],
   "source": [
    "# Define the LSTM model - Long short-term memory (LSTM) is an artificial recurrent neural network (RNN) \n",
    "# import keras\n",
    "import tensorflow as tf\n",
    "from tensorflow import keras\n",
    "from tensorflow.keras.models import Sequential\n",
    "from tensorflow.keras.layers import Dense, LSTM"
   ]
  },
  {
   "cell_type": "code",
   "execution_count": 72,
   "metadata": {},
   "outputs": [],
   "source": [
    "## Train the model reporting different metrics\n",
    "# https://keras.io/api/metrics/\n",
    "metrics = [\n",
    "    # Regression Metrics\n",
    "    keras.metrics.MeanSquaredError(name=\"MSE\"),\n",
    "    keras.metrics.RootMeanSquaredError(name=\"RMSE\"),\n",
    "    keras.metrics.MeanAbsoluteError(name=\"MAE\"),\n",
    "    keras.metrics.MeanAbsolutePercentageError(name='MAPE')\n",
    "    ## Classification Metrics\n",
    "    # keras.metrics.FalseNegatives(name=\"fn\"),\n",
    "    # keras.metrics.FalsePositives(name=\"fp\"),\n",
    "    # keras.metrics.TrueNegatives(name=\"tn\"),\n",
    "    # keras.metrics.TruePositives(name=\"tp\"),\n",
    "    # keras.metrics.Precision(name=\"precision\"),\n",
    "    # keras.metrics.Recall(name=\"recall\"),\n",
    "    # Accuracy Metrics\n",
    "    # keras.metrics.Accuracy(name='Accuracy')\n",
    "]\n"
   ]
  },
  {
   "cell_type": "code",
   "execution_count": 73,
   "metadata": {},
   "outputs": [],
   "source": [
    "# A larger batch size can lead to faster training times, but may also lead to overfitting. A smaller batch size may result in a better generalization performance.\n",
    "# Too few epochs may lead to underfitting, while too many epochs may lead to overfitting\n",
    "\n",
    "n_steps = 3  # Number of time steps in each sequence\n",
    "n_features = X_train.shape[1]\n",
    "batch_size=64                   \n",
    "learning_rate = 0.001\n",
    "epochs=10\n",
    "sampling_rate = 5"
   ]
  },
  {
   "cell_type": "code",
   "execution_count": 74,
   "metadata": {},
   "outputs": [
    {
     "data": {
      "text/plain": [
       "<BatchDataset element_spec=(TensorSpec(shape=(None, None, 13), dtype=tf.float32, name=None), TensorSpec(shape=(None, 1), dtype=tf.float32, name=None))>"
      ]
     },
     "execution_count": 74,
     "metadata": {},
     "output_type": "execute_result"
    }
   ],
   "source": [
    "# Reshape the data to be 3D\n",
    "\n",
    "# Convert the data type to float32 to avoid the python error \n",
    "# 'Failed to convert a NumPy array to a Tensor (Unsupported object type float)'\n",
    "X_train = X_train.astype(npy.float32)\n",
    "y_train = y_train.astype(npy.float32)\n",
    "\n",
    "## Creates a dataset of sliding windows over a timeseries provided as array.\n",
    "dataset_train = keras.preprocessing.timeseries_dataset_from_array(\n",
    "    X_train,\n",
    "    y_train,\n",
    "    sequence_length=n_steps,\n",
    "    sampling_rate=sampling_rate,\n",
    "    batch_size=batch_size,\n",
    ")\n",
    "\n",
    "dataset_train\n"
   ]
  },
  {
   "cell_type": "code",
   "execution_count": 75,
   "metadata": {},
   "outputs": [
    {
     "data": {
      "text/plain": [
       "<BatchDataset element_spec=(TensorSpec(shape=(None, None, 13), dtype=tf.float64, name=None), TensorSpec(shape=(None, 1), dtype=tf.float64, name=None))>"
      ]
     },
     "execution_count": 75,
     "metadata": {},
     "output_type": "execute_result"
    }
   ],
   "source": [
    "## Validation\n",
    "dataset_val = keras.preprocessing.timeseries_dataset_from_array(\n",
    "    X_test,\n",
    "    y_test,\n",
    "    sequence_length=n_steps,\n",
    "    sampling_rate=sampling_rate,\n",
    "    batch_size=batch_size,\n",
    ")\n",
    "\n",
    "dataset_val"
   ]
  },
  {
   "cell_type": "code",
   "execution_count": 76,
   "metadata": {},
   "outputs": [
    {
     "name": "stdout",
     "output_type": "stream",
     "text": [
      "Input shape: (64, 3, 13)\n",
      "Target shape: (64, 1)\n"
     ]
    }
   ],
   "source": [
    "for batch in dataset_train.take(1):\n",
    "    inputs, targets = batch\n",
    "\n",
    "print(\"Input shape:\", inputs.numpy().shape)\n",
    "print(\"Target shape:\", targets.numpy().shape)"
   ]
  },
  {
   "cell_type": "code",
   "execution_count": 77,
   "metadata": {},
   "outputs": [],
   "source": [
    "# # Reshape the data for LSTM model\n",
    "# X_train = X_train.values.reshape((X_train.shape[0], 1, X_train.shape[1]))\n",
    "# X_test = X_test.values.reshape((X_test.shape[0], 1, X_test.shape[1]))\n",
    "\n",
    "# print(\"Train set: \", (X_train.shape, y_train.shape)) \n",
    "# print(\"test set: \", (X_test.shape, y_test.shape))"
   ]
  },
  {
   "cell_type": "code",
   "execution_count": 78,
   "metadata": {},
   "outputs": [
    {
     "name": "stdout",
     "output_type": "stream",
     "text": [
      "Model: \"model_4\"\n",
      "_________________________________________________________________\n",
      " Layer (type)                Output Shape              Param #   \n",
      "=================================================================\n",
      " input_5 (InputLayer)        [(None, 3, 13)]           0         \n",
      "                                                                 \n",
      " lstm_4 (LSTM)               (None, 32)                5888      \n",
      "                                                                 \n",
      " dense_4 (Dense)             (None, 1)                 33        \n",
      "                                                                 \n",
      "=================================================================\n",
      "Total params: 5,921\n",
      "Trainable params: 5,921\n",
      "Non-trainable params: 0\n",
      "_________________________________________________________________\n"
     ]
    }
   ],
   "source": [
    "## Training with LSTM model\n",
    "\n",
    "inputs = keras.layers.Input(shape=\n",
    "                            (\n",
    "                            inputs.shape[1], \n",
    "                            inputs.shape[2]\n",
    "                            ))\n",
    "lstm_out = keras.layers.LSTM(32)(inputs)\n",
    "outputs = keras.layers.Dense(1)(lstm_out)\n",
    "\n",
    "model = keras.Model(inputs=inputs,\n",
    "                    outputs=outputs)\n",
    "model.compile(\n",
    "                optimizer=keras.optimizers.Adam(learning_rate=learning_rate), \n",
    "                loss=\"mse\",\n",
    "                metrics=metrics\n",
    "              )\n",
    "\n",
    "model.summary()"
   ]
  },
  {
   "cell_type": "code",
   "execution_count": 79,
   "metadata": {},
   "outputs": [
    {
     "name": "stdout",
     "output_type": "stream",
     "text": [
      "Epoch 1/10\n",
      "104/105 [============================>.] - ETA: 0s - loss: 0.4327 - MSE: 0.4327 - RMSE: 0.6578 - MAE: 0.5444 - MAPE: 77.2764\n",
      "Epoch 1: val_loss improved from inf to 0.13824, saving model to model_checkpoint.h5\n",
      "105/105 [==============================] - 5s 20ms/step - loss: 0.4306 - MSE: 0.4306 - RMSE: 0.6562 - MAE: 0.5426 - MAPE: 77.0236 - val_loss: 0.1382 - val_MSE: 0.1382 - val_RMSE: 0.3718 - val_MAE: 0.2990 - val_MAPE: 56.0276\n",
      "Epoch 2/10\n",
      "103/105 [============================>.] - ETA: 0s - loss: 0.0695 - MSE: 0.0695 - RMSE: 0.2636 - MAE: 0.2014 - MAPE: 38.8077\n",
      "Epoch 2: val_loss improved from 0.13824 to 0.03535, saving model to model_checkpoint.h5\n",
      "105/105 [==============================] - 2s 15ms/step - loss: 0.0688 - MSE: 0.0688 - RMSE: 0.2624 - MAE: 0.2003 - MAPE: 38.5050 - val_loss: 0.0353 - val_MSE: 0.0353 - val_RMSE: 0.1880 - val_MAE: 0.1474 - val_MAPE: 31.6635\n",
      "Epoch 3/10\n",
      "103/105 [============================>.] - ETA: 0s - loss: 0.0240 - MSE: 0.0240 - RMSE: 0.1549 - MAE: 0.1190 - MAPE: 24.9789\n",
      "Epoch 3: val_loss improved from 0.03535 to 0.01567, saving model to model_checkpoint.h5\n",
      "105/105 [==============================] - 2s 16ms/step - loss: 0.0238 - MSE: 0.0238 - RMSE: 0.1544 - MAE: 0.1186 - MAPE: 24.7987 - val_loss: 0.0157 - val_MSE: 0.0157 - val_RMSE: 0.1252 - val_MAE: 0.0984 - val_MAPE: 20.4847\n",
      "Epoch 4/10\n",
      "103/105 [============================>.] - ETA: 0s - loss: 0.0121 - MSE: 0.0121 - RMSE: 0.1100 - MAE: 0.0849 - MAPE: 17.7545\n",
      "Epoch 4: val_loss improved from 0.01567 to 0.00899, saving model to model_checkpoint.h5\n",
      "105/105 [==============================] - 2s 14ms/step - loss: 0.0120 - MSE: 0.0120 - RMSE: 0.1098 - MAE: 0.0847 - MAPE: 17.6558 - val_loss: 0.0090 - val_MSE: 0.0090 - val_RMSE: 0.0948 - val_MAE: 0.0737 - val_MAPE: 14.4885\n",
      "Epoch 5/10\n",
      "101/105 [===========================>..] - ETA: 0s - loss: 0.0073 - MSE: 0.0073 - RMSE: 0.0855 - MAE: 0.0667 - MAPE: 13.0461\n",
      "Epoch 5: val_loss improved from 0.00899 to 0.00838, saving model to model_checkpoint.h5\n",
      "105/105 [==============================] - 2s 17ms/step - loss: 0.0073 - MSE: 0.0073 - RMSE: 0.0855 - MAE: 0.0668 - MAPE: 12.9873 - val_loss: 0.0084 - val_MSE: 0.0084 - val_RMSE: 0.0915 - val_MAE: 0.0688 - val_MAPE: 12.2683\n",
      "Epoch 6/10\n",
      "103/105 [============================>.] - ETA: 0s - loss: 0.0055 - MSE: 0.0055 - RMSE: 0.0745 - MAE: 0.0582 - MAPE: 10.4916\n",
      "Epoch 6: val_loss improved from 0.00838 to 0.00738, saving model to model_checkpoint.h5\n",
      "105/105 [==============================] - 2s 17ms/step - loss: 0.0055 - MSE: 0.0055 - RMSE: 0.0743 - MAE: 0.0581 - MAPE: 10.4415 - val_loss: 0.0074 - val_MSE: 0.0074 - val_RMSE: 0.0859 - val_MAE: 0.0638 - val_MAPE: 10.8457\n",
      "Epoch 7/10\n",
      " 99/105 [===========================>..] - ETA: 0s - loss: 0.0046 - MSE: 0.0046 - RMSE: 0.0675 - MAE: 0.0523 - MAPE: 8.9727\n",
      "Epoch 7: val_loss improved from 0.00738 to 0.00631, saving model to model_checkpoint.h5\n",
      "105/105 [==============================] - 2s 15ms/step - loss: 0.0046 - MSE: 0.0046 - RMSE: 0.0677 - MAE: 0.0525 - MAPE: 8.9465 - val_loss: 0.0063 - val_MSE: 0.0063 - val_RMSE: 0.0795 - val_MAE: 0.0581 - val_MAPE: 9.5823\n",
      "Epoch 8/10\n",
      "104/105 [============================>.] - ETA: 0s - loss: 0.0039 - MSE: 0.0039 - RMSE: 0.0627 - MAE: 0.0482 - MAPE: 7.9187\n",
      "Epoch 8: val_loss improved from 0.00631 to 0.00539, saving model to model_checkpoint.h5\n",
      "105/105 [==============================] - 2s 14ms/step - loss: 0.0039 - MSE: 0.0039 - RMSE: 0.0627 - MAE: 0.0481 - MAPE: 7.9042 - val_loss: 0.0054 - val_MSE: 0.0054 - val_RMSE: 0.0734 - val_MAE: 0.0530 - val_MAPE: 8.5197\n",
      "Epoch 9/10\n",
      "103/105 [============================>.] - ETA: 0s - loss: 0.0034 - MSE: 0.0034 - RMSE: 0.0587 - MAE: 0.0446 - MAPE: 7.1336\n",
      "Epoch 9: val_loss improved from 0.00539 to 0.00460, saving model to model_checkpoint.h5\n",
      "105/105 [==============================] - 2s 15ms/step - loss: 0.0034 - MSE: 0.0034 - RMSE: 0.0585 - MAE: 0.0445 - MAPE: 7.0989 - val_loss: 0.0046 - val_MSE: 0.0046 - val_RMSE: 0.0678 - val_MAE: 0.0484 - val_MAPE: 7.6182\n",
      "Epoch 10/10\n",
      "103/105 [============================>.] - ETA: 0s - loss: 0.0030 - MSE: 0.0030 - RMSE: 0.0551 - MAE: 0.0416 - MAPE: 6.4940\n",
      "Epoch 10: val_loss improved from 0.00460 to 0.00381, saving model to model_checkpoint.h5\n",
      "105/105 [==============================] - 2s 16ms/step - loss: 0.0030 - MSE: 0.0030 - RMSE: 0.0549 - MAE: 0.0415 - MAPE: 6.4618 - val_loss: 0.0038 - val_MSE: 0.0038 - val_RMSE: 0.0617 - val_MAE: 0.0440 - val_MAPE: 6.8010\n"
     ]
    }
   ],
   "source": [
    "## Advanced topic (ModelCheckpoint)\n",
    "## We'll use the ModelCheckpoint callback to regularly save checkpoints, and the \n",
    "## EarlyStopping callback to interrupt \n",
    "## training when the validation loss is not longer improving.\n",
    "\n",
    "path_checkpoint = \"model_checkpoint.h5\"\n",
    "es_callback = keras.callbacks.EarlyStopping(monitor=\"val_loss\", min_delta=0, patience=5)\n",
    "\n",
    "modelckpt_callback = keras.callbacks.ModelCheckpoint(\n",
    "    monitor=\"val_loss\",\n",
    "    filepath=path_checkpoint,\n",
    "    verbose=1,\n",
    "    save_weights_only=True,\n",
    "    save_best_only=True,\n",
    ")\n",
    "\n",
    "history = model.fit(\n",
    "    dataset_train,\n",
    "    epochs=epochs,\n",
    "    validation_data=dataset_val,\n",
    "    callbacks=[es_callback, modelckpt_callback],\n",
    ")"
   ]
  },
  {
   "cell_type": "code",
   "execution_count": 80,
   "metadata": {},
   "outputs": [
    {
     "data": {
      "image/png": "[encoded data removed]",
      "text/plain": [
       "<Figure size 640x480 with 1 Axes>"
      ]
     },
     "metadata": {},
     "output_type": "display_data"
    }
   ],
   "source": [
    "# Visualize the loss with the function below. After one point, the loss stops decreasing.\n",
    "\n",
    "def visualize_loss(history, title):\n",
    "    loss = history.history[\"loss\"]\n",
    "    val_loss = history.history[\"val_loss\"]\n",
    "    epochs = range(len(loss))\n",
    "    plt.figure()\n",
    "    plt.plot(epochs, loss, \"b\", label=\"Training loss\")\n",
    "    plt.plot(epochs, val_loss, \"r\", label=\"Validation loss\")\n",
    "    plt.title(title)\n",
    "    plt.xlabel(\"Epochs\")\n",
    "    plt.ylabel(\"Loss\")\n",
    "    plt.legend()\n",
    "    plt.show()\n",
    "\n",
    "\n",
    "visualize_loss(history, \"Training and Validation Loss\")"
   ]
  },
  {
   "attachments": {},
   "cell_type": "markdown",
   "metadata": {},
   "source": [
    "#### Forecasting\n"
   ]
  },
  {
   "cell_type": "code",
   "execution_count": null,
   "metadata": {},
   "outputs": [],
   "source": []
  },
  {
   "cell_type": "code",
   "execution_count": 81,
   "metadata": {},
   "outputs": [
    {
     "name": "stdout",
     "output_type": "stream",
     "text": [
      "2/2 [==============================] - 0s 5ms/step\n"
     ]
    },
    {
     "data": {
      "image/png": "[encoded data removed]",
      "text/plain": [
       "<Figure size 640x480 with 1 Axes>"
      ]
     },
     "metadata": {},
     "output_type": "display_data"
    },
    {
     "name": "stdout",
     "output_type": "stream",
     "text": [
      "2/2 [==============================] - 0s 5ms/step\n"
     ]
    },
    {
     "data": {
      "image/png": "[encoded data removed]",
      "text/plain": [
       "<Figure size 640x480 with 1 Axes>"
      ]
     },
     "metadata": {},
     "output_type": "display_data"
    },
    {
     "name": "stdout",
     "output_type": "stream",
     "text": [
      "2/2 [==============================] - 0s 4ms/step\n"
     ]
    },
    {
     "data": {
      "image/png": "[encoded data removed]",
      "text/plain": [
       "<Figure size 640x480 with 1 Axes>"
      ]
     },
     "metadata": {},
     "output_type": "display_data"
    },
    {
     "name": "stdout",
     "output_type": "stream",
     "text": [
      "2/2 [==============================] - 0s 4ms/step\n"
     ]
    },
    {
     "data": {
      "image/png": "[encoded data removed]",
      "text/plain": [
       "<Figure size 640x480 with 1 Axes>"
      ]
     },
     "metadata": {},
     "output_type": "display_data"
    },
    {
     "name": "stdout",
     "output_type": "stream",
     "text": [
      "2/2 [==============================] - 0s 4ms/step\n"
     ]
    },
    {
     "data": {
      "image/png": "[encoded data removed]",
      "text/plain": [
       "<Figure size 640x480 with 1 Axes>"
      ]
     },
     "metadata": {},
     "output_type": "display_data"
    }
   ],
   "source": [
    "def show_plot(plot_data, delta, title):\n",
    "    labels = [\"History\", \"True Future\", \"Model Prediction\"]\n",
    "    marker = [\".-\", \"rx\", \"go\"]\n",
    "    time_steps = list(range(-(plot_data[0].shape[0]), 0))\n",
    "    if delta:\n",
    "        future = delta\n",
    "    else:\n",
    "        future = 0\n",
    "\n",
    "    plt.title(title)\n",
    "    for i, val in enumerate(plot_data):\n",
    "        if i:\n",
    "            plt.plot(future, plot_data[i], marker[i], markersize=10, label=labels[i])\n",
    "        else:\n",
    "            plt.plot(time_steps, plot_data[i].flatten(), marker[i], label=labels[i])\n",
    "    plt.legend()\n",
    "    plt.xlim([time_steps[0], (future + 5) * 2])\n",
    "    plt.xlabel(\"Time-Step\")\n",
    "    plt.show()\n",
    "    return\n",
    "\n",
    "\n",
    "for x, y in dataset_val.take(5):\n",
    "    show_plot(\n",
    "        [x[0][:, 1].numpy(), y[0].numpy(), model.predict(x)[0]],\n",
    "        12,\n",
    "        \"Single Step Forecasting\",\n",
    "    )"
   ]
  },
  {
   "cell_type": "code",
   "execution_count": null,
   "metadata": {},
   "outputs": [],
   "source": [
    "# Define model architecture\n",
    "model = Sequential()\n",
    "model.add(LSTM(64, activation='relu', input_shape=(X_train.shape[1], X_train.shape[2])))\n",
    "model.add(Dense(1))\n",
    "\n",
    "\n",
    "# Compile model\n",
    "model.compile(loss='mse', \n",
    "              optimizer='adam', \n",
    "              metrics=metrics\n",
    "              )\n",
    "\n",
    "model.summary()"
   ]
  },
  {
   "cell_type": "code",
   "execution_count": null,
   "metadata": {},
   "outputs": [
    {
     "name": "stdout",
     "output_type": "stream",
     "text": [
      "Epoch 1/50\n",
      "223/223 - 4s - loss: 8.8459e-04 - MSE: 8.8459e-04 - RMSE: 0.0297 - MAE: 0.0116 - val_loss: 8.8720e-04 - val_MSE: 8.8720e-04 - val_RMSE: 0.0298 - val_MAE: 0.0106 - 4s/epoch - 17ms/step\n",
      "Epoch 2/50\n",
      "223/223 - 1s - loss: 4.4242e-04 - MSE: 4.4242e-04 - RMSE: 0.0210 - MAE: 0.0072 - val_loss: 6.2894e-04 - val_MSE: 6.2894e-04 - val_RMSE: 0.0251 - val_MAE: 0.0086 - 578ms/epoch - 3ms/step\n",
      "Epoch 3/50\n",
      "223/223 - 1s - loss: 3.0703e-04 - MSE: 3.0703e-04 - RMSE: 0.0175 - MAE: 0.0061 - val_loss: 4.7971e-04 - val_MSE: 4.7971e-04 - val_RMSE: 0.0219 - val_MAE: 0.0071 - 541ms/epoch - 2ms/step\n",
      "Epoch 4/50\n",
      "223/223 - 1s - loss: 2.2497e-04 - MSE: 2.2497e-04 - RMSE: 0.0150 - MAE: 0.0056 - val_loss: 3.6923e-04 - val_MSE: 3.6923e-04 - val_RMSE: 0.0192 - val_MAE: 0.0062 - 543ms/epoch - 2ms/step\n",
      "Epoch 5/50\n",
      "223/223 - 1s - loss: 1.7603e-04 - MSE: 1.7603e-04 - RMSE: 0.0133 - MAE: 0.0051 - val_loss: 3.2866e-04 - val_MSE: 3.2866e-04 - val_RMSE: 0.0181 - val_MAE: 0.0060 - 798ms/epoch - 4ms/step\n",
      "Epoch 6/50\n",
      "223/223 - 1s - loss: 1.4305e-04 - MSE: 1.4305e-04 - RMSE: 0.0120 - MAE: 0.0048 - val_loss: 2.7463e-04 - val_MSE: 2.7463e-04 - val_RMSE: 0.0166 - val_MAE: 0.0057 - 590ms/epoch - 3ms/step\n",
      "Epoch 7/50\n",
      "223/223 - 1s - loss: 1.1607e-04 - MSE: 1.1607e-04 - RMSE: 0.0108 - MAE: 0.0046 - val_loss: 2.6173e-04 - val_MSE: 2.6173e-04 - val_RMSE: 0.0162 - val_MAE: 0.0055 - 625ms/epoch - 3ms/step\n",
      "Epoch 8/50\n",
      "223/223 - 1s - loss: 1.0075e-04 - MSE: 1.0075e-04 - RMSE: 0.0100 - MAE: 0.0043 - val_loss: 1.8688e-04 - val_MSE: 1.8688e-04 - val_RMSE: 0.0137 - val_MAE: 0.0053 - 582ms/epoch - 3ms/step\n",
      "Epoch 9/50\n",
      "223/223 - 1s - loss: 8.2304e-05 - MSE: 8.2304e-05 - RMSE: 0.0091 - MAE: 0.0041 - val_loss: 1.4893e-04 - val_MSE: 1.4893e-04 - val_RMSE: 0.0122 - val_MAE: 0.0050 - 576ms/epoch - 3ms/step\n",
      "Epoch 10/50\n",
      "223/223 - 1s - loss: 6.6867e-05 - MSE: 6.6867e-05 - RMSE: 0.0082 - MAE: 0.0039 - val_loss: 1.0056e-04 - val_MSE: 1.0056e-04 - val_RMSE: 0.0100 - val_MAE: 0.0048 - 509ms/epoch - 2ms/step\n",
      "Epoch 11/50\n",
      "223/223 - 1s - loss: 5.4876e-05 - MSE: 5.4876e-05 - RMSE: 0.0074 - MAE: 0.0036 - val_loss: 8.4537e-05 - val_MSE: 8.4537e-05 - val_RMSE: 0.0092 - val_MAE: 0.0046 - 765ms/epoch - 3ms/step\n",
      "Epoch 12/50\n",
      "223/223 - 1s - loss: 4.7409e-05 - MSE: 4.7409e-05 - RMSE: 0.0069 - MAE: 0.0035 - val_loss: 7.5606e-05 - val_MSE: 7.5606e-05 - val_RMSE: 0.0087 - val_MAE: 0.0045 - 559ms/epoch - 3ms/step\n",
      "Epoch 13/50\n",
      "223/223 - 1s - loss: 4.2541e-05 - MSE: 4.2541e-05 - RMSE: 0.0065 - MAE: 0.0034 - val_loss: 7.4307e-05 - val_MSE: 7.4307e-05 - val_RMSE: 0.0086 - val_MAE: 0.0045 - 571ms/epoch - 3ms/step\n",
      "Epoch 14/50\n",
      "223/223 - 1s - loss: 3.8708e-05 - MSE: 3.8708e-05 - RMSE: 0.0062 - MAE: 0.0033 - val_loss: 6.7431e-05 - val_MSE: 6.7431e-05 - val_RMSE: 0.0082 - val_MAE: 0.0045 - 630ms/epoch - 3ms/step\n",
      "Epoch 15/50\n",
      "223/223 - 1s - loss: 3.6449e-05 - MSE: 3.6449e-05 - RMSE: 0.0060 - MAE: 0.0033 - val_loss: 1.4240e-04 - val_MSE: 1.4240e-04 - val_RMSE: 0.0119 - val_MAE: 0.0047 - 502ms/epoch - 2ms/step\n",
      "Epoch 16/50\n",
      "223/223 - 1s - loss: 4.1979e-05 - MSE: 4.1979e-05 - RMSE: 0.0065 - MAE: 0.0034 - val_loss: 2.9573e-04 - val_MSE: 2.9573e-04 - val_RMSE: 0.0172 - val_MAE: 0.0056 - 564ms/epoch - 3ms/step\n",
      "Epoch 17/50\n",
      "223/223 - 1s - loss: 6.0382e-05 - MSE: 6.0382e-05 - RMSE: 0.0078 - MAE: 0.0040 - val_loss: 3.5682e-04 - val_MSE: 3.5682e-04 - val_RMSE: 0.0189 - val_MAE: 0.0063 - 577ms/epoch - 3ms/step\n",
      "Epoch 18/50\n",
      "223/223 - 1s - loss: 7.1452e-05 - MSE: 7.1452e-05 - RMSE: 0.0085 - MAE: 0.0040 - val_loss: 9.1361e-04 - val_MSE: 9.1361e-04 - val_RMSE: 0.0302 - val_MAE: 0.0076 - 524ms/epoch - 2ms/step\n",
      "Epoch 19/50\n",
      "223/223 - 1s - loss: 8.6386e-05 - MSE: 8.6386e-05 - RMSE: 0.0093 - MAE: 0.0046 - val_loss: 3.1664e-04 - val_MSE: 3.1664e-04 - val_RMSE: 0.0178 - val_MAE: 0.0064 - 566ms/epoch - 3ms/step\n",
      "Epoch 20/50\n",
      "223/223 - 1s - loss: 4.3930e-05 - MSE: 4.3930e-05 - RMSE: 0.0066 - MAE: 0.0037 - val_loss: 2.0776e-04 - val_MSE: 2.0776e-04 - val_RMSE: 0.0144 - val_MAE: 0.0049 - 608ms/epoch - 3ms/step\n",
      "Epoch 21/50\n",
      "223/223 - 1s - loss: 3.5820e-05 - MSE: 3.5820e-05 - RMSE: 0.0060 - MAE: 0.0033 - val_loss: 9.2917e-05 - val_MSE: 9.2917e-05 - val_RMSE: 0.0096 - val_MAE: 0.0044 - 512ms/epoch - 2ms/step\n",
      "Epoch 22/50\n",
      "223/223 - 1s - loss: 2.8082e-05 - MSE: 2.8082e-05 - RMSE: 0.0053 - MAE: 0.0030 - val_loss: 9.4444e-05 - val_MSE: 9.4444e-05 - val_RMSE: 0.0097 - val_MAE: 0.0041 - 559ms/epoch - 3ms/step\n",
      "Epoch 23/50\n",
      "223/223 - 1s - loss: 2.7368e-05 - MSE: 2.7368e-05 - RMSE: 0.0052 - MAE: 0.0030 - val_loss: 1.8703e-04 - val_MSE: 1.8703e-04 - val_RMSE: 0.0137 - val_MAE: 0.0047 - 607ms/epoch - 3ms/step\n",
      "Epoch 24/50\n",
      "223/223 - 1s - loss: 3.2835e-05 - MSE: 3.2835e-05 - RMSE: 0.0057 - MAE: 0.0031 - val_loss: 2.7055e-04 - val_MSE: 2.7055e-04 - val_RMSE: 0.0164 - val_MAE: 0.0053 - 520ms/epoch - 2ms/step\n",
      "Epoch 25/50\n",
      "223/223 - 1s - loss: 4.4742e-05 - MSE: 4.4742e-05 - RMSE: 0.0067 - MAE: 0.0036 - val_loss: 2.9412e-04 - val_MSE: 2.9412e-04 - val_RMSE: 0.0171 - val_MAE: 0.0057 - 522ms/epoch - 2ms/step\n",
      "Epoch 26/50\n",
      "223/223 - 1s - loss: 4.2588e-05 - MSE: 4.2588e-05 - RMSE: 0.0065 - MAE: 0.0034 - val_loss: 4.4602e-04 - val_MSE: 4.4602e-04 - val_RMSE: 0.0211 - val_MAE: 0.0058 - 511ms/epoch - 2ms/step\n",
      "Epoch 27/50\n",
      "223/223 - 1s - loss: 5.7638e-05 - MSE: 5.7638e-05 - RMSE: 0.0076 - MAE: 0.0037 - val_loss: 5.7210e-04 - val_MSE: 5.7210e-04 - val_RMSE: 0.0239 - val_MAE: 0.0070 - 581ms/epoch - 3ms/step\n",
      "Epoch 28/50\n",
      "223/223 - 1s - loss: 6.8881e-05 - MSE: 6.8881e-05 - RMSE: 0.0083 - MAE: 0.0038 - val_loss: 5.3568e-04 - val_MSE: 5.3568e-04 - val_RMSE: 0.0231 - val_MAE: 0.0069 - 518ms/epoch - 2ms/step\n",
      "Epoch 29/50\n",
      "223/223 - 1s - loss: 6.1611e-05 - MSE: 6.1611e-05 - RMSE: 0.0078 - MAE: 0.0039 - val_loss: 1.5784e-04 - val_MSE: 1.5784e-04 - val_RMSE: 0.0126 - val_MAE: 0.0051 - 707ms/epoch - 3ms/step\n",
      "Epoch 30/50\n",
      "223/223 - 1s - loss: 3.7241e-05 - MSE: 3.7241e-05 - RMSE: 0.0061 - MAE: 0.0030 - val_loss: 2.3182e-04 - val_MSE: 2.3182e-04 - val_RMSE: 0.0152 - val_MAE: 0.0055 - 519ms/epoch - 2ms/step\n",
      "Epoch 31/50\n",
      "223/223 - 1s - loss: 3.8892e-05 - MSE: 3.8892e-05 - RMSE: 0.0062 - MAE: 0.0031 - val_loss: 2.2595e-04 - val_MSE: 2.2595e-04 - val_RMSE: 0.0150 - val_MAE: 0.0054 - 594ms/epoch - 3ms/step\n",
      "Epoch 32/50\n",
      "223/223 - 1s - loss: 3.4188e-05 - MSE: 3.4188e-05 - RMSE: 0.0058 - MAE: 0.0030 - val_loss: 2.5435e-04 - val_MSE: 2.5435e-04 - val_RMSE: 0.0159 - val_MAE: 0.0051 - 526ms/epoch - 2ms/step\n",
      "Epoch 33/50\n",
      "223/223 - 1s - loss: 3.5138e-05 - MSE: 3.5138e-05 - RMSE: 0.0059 - MAE: 0.0031 - val_loss: 1.6665e-04 - val_MSE: 1.6665e-04 - val_RMSE: 0.0129 - val_MAE: 0.0047 - 578ms/epoch - 3ms/step\n",
      "Epoch 34/50\n",
      "223/223 - 1s - loss: 3.3660e-05 - MSE: 3.3660e-05 - RMSE: 0.0058 - MAE: 0.0029 - val_loss: 2.0597e-04 - val_MSE: 2.0597e-04 - val_RMSE: 0.0144 - val_MAE: 0.0050 - 512ms/epoch - 2ms/step\n",
      "Epoch 35/50\n",
      "223/223 - 1s - loss: 3.5142e-05 - MSE: 3.5142e-05 - RMSE: 0.0059 - MAE: 0.0030 - val_loss: 1.9931e-04 - val_MSE: 1.9931e-04 - val_RMSE: 0.0141 - val_MAE: 0.0050 - 633ms/epoch - 3ms/step\n",
      "Epoch 36/50\n",
      "223/223 - 1s - loss: 3.7755e-05 - MSE: 3.7755e-05 - RMSE: 0.0061 - MAE: 0.0030 - val_loss: 2.8443e-04 - val_MSE: 2.8443e-04 - val_RMSE: 0.0169 - val_MAE: 0.0059 - 536ms/epoch - 2ms/step\n",
      "Epoch 37/50\n",
      "223/223 - 1s - loss: 4.2131e-05 - MSE: 4.2131e-05 - RMSE: 0.0065 - MAE: 0.0033 - val_loss: 2.3318e-04 - val_MSE: 2.3318e-04 - val_RMSE: 0.0153 - val_MAE: 0.0056 - 509ms/epoch - 2ms/step\n",
      "Epoch 38/50\n",
      "223/223 - 1s - loss: 4.2755e-05 - MSE: 4.2755e-05 - RMSE: 0.0065 - MAE: 0.0030 - val_loss: 2.4700e-04 - val_MSE: 2.4700e-04 - val_RMSE: 0.0157 - val_MAE: 0.0058 - 527ms/epoch - 2ms/step\n",
      "Epoch 39/50\n",
      "223/223 - 1s - loss: 3.5200e-05 - MSE: 3.5200e-05 - RMSE: 0.0059 - MAE: 0.0031 - val_loss: 1.0643e-04 - val_MSE: 1.0643e-04 - val_RMSE: 0.0103 - val_MAE: 0.0045 - 557ms/epoch - 2ms/step\n",
      "Epoch 40/50\n",
      "223/223 - 1s - loss: 2.6658e-05 - MSE: 2.6658e-05 - RMSE: 0.0052 - MAE: 0.0026 - val_loss: 1.3489e-04 - val_MSE: 1.3489e-04 - val_RMSE: 0.0116 - val_MAE: 0.0048 - 526ms/epoch - 2ms/step\n",
      "Epoch 41/50\n",
      "223/223 - 1s - loss: 2.4646e-05 - MSE: 2.4646e-05 - RMSE: 0.0050 - MAE: 0.0027 - val_loss: 8.9236e-05 - val_MSE: 8.9236e-05 - val_RMSE: 0.0094 - val_MAE: 0.0041 - 581ms/epoch - 3ms/step\n",
      "Epoch 42/50\n",
      "223/223 - 1s - loss: 2.2724e-05 - MSE: 2.2724e-05 - RMSE: 0.0048 - MAE: 0.0025 - val_loss: 9.6896e-05 - val_MSE: 9.6896e-05 - val_RMSE: 0.0098 - val_MAE: 0.0043 - 587ms/epoch - 3ms/step\n",
      "Epoch 43/50\n",
      "223/223 - 1s - loss: 2.2130e-05 - MSE: 2.2130e-05 - RMSE: 0.0047 - MAE: 0.0026 - val_loss: 9.8131e-05 - val_MSE: 9.8131e-05 - val_RMSE: 0.0099 - val_MAE: 0.0042 - 641ms/epoch - 3ms/step\n",
      "Epoch 44/50\n",
      "223/223 - 1s - loss: 2.3157e-05 - MSE: 2.3157e-05 - RMSE: 0.0048 - MAE: 0.0025 - val_loss: 1.2063e-04 - val_MSE: 1.2063e-04 - val_RMSE: 0.0110 - val_MAE: 0.0046 - 503ms/epoch - 2ms/step\n",
      "Epoch 45/50\n",
      "223/223 - 1s - loss: 2.5967e-05 - MSE: 2.5967e-05 - RMSE: 0.0051 - MAE: 0.0028 - val_loss: 1.3528e-04 - val_MSE: 1.3528e-04 - val_RMSE: 0.0116 - val_MAE: 0.0047 - 530ms/epoch - 2ms/step\n",
      "Epoch 46/50\n",
      "223/223 - 1s - loss: 2.7414e-05 - MSE: 2.7414e-05 - RMSE: 0.0052 - MAE: 0.0027 - val_loss: 1.7801e-04 - val_MSE: 1.7801e-04 - val_RMSE: 0.0133 - val_MAE: 0.0051 - 571ms/epoch - 3ms/step\n",
      "Epoch 47/50\n",
      "223/223 - 1s - loss: 3.0908e-05 - MSE: 3.0908e-05 - RMSE: 0.0056 - MAE: 0.0030 - val_loss: 1.4924e-04 - val_MSE: 1.4924e-04 - val_RMSE: 0.0122 - val_MAE: 0.0049 - 732ms/epoch - 3ms/step\n",
      "Epoch 48/50\n",
      "223/223 - 1s - loss: 3.1835e-05 - MSE: 3.1835e-05 - RMSE: 0.0056 - MAE: 0.0028 - val_loss: 1.9767e-04 - val_MSE: 1.9767e-04 - val_RMSE: 0.0141 - val_MAE: 0.0053 - 515ms/epoch - 2ms/step\n",
      "Epoch 49/50\n",
      "223/223 - 1s - loss: 3.0579e-05 - MSE: 3.0579e-05 - RMSE: 0.0055 - MAE: 0.0030 - val_loss: 8.3897e-05 - val_MSE: 8.3897e-05 - val_RMSE: 0.0092 - val_MAE: 0.0044 - 549ms/epoch - 2ms/step\n",
      "Epoch 50/50\n",
      "223/223 - 1s - loss: 2.3300e-05 - MSE: 2.3300e-05 - RMSE: 0.0048 - MAE: 0.0026 - val_loss: 1.2334e-04 - val_MSE: 1.2334e-04 - val_RMSE: 0.0111 - val_MAE: 0.0044 - 641ms/epoch - 3ms/step\n"
     ]
    }
   ],
   "source": [
    "# Fit the model to the training data\n",
    "history = model.fit(X_train, y_train, epochs=50, batch_size=32, validation_data=(X_test, y_test), verbose=2, shuffle=False)"
   ]
  },
  {
   "cell_type": "code",
   "execution_count": null,
   "metadata": {},
   "outputs": [
    {
     "data": {
      "text/plain": [
       "[0.00012334251368883997,\n",
       " 0.00012334251368883997,\n",
       " 0.011105967685580254,\n",
       " 0.004400851670652628]"
      ]
     },
     "execution_count": 39,
     "metadata": {},
     "output_type": "execute_result"
    }
   ],
   "source": [
    "# Evaluate the model's performance on the testing data\n",
    "mse = model.evaluate(X_test, y_test, verbose=0)\n",
    "# rmse = npy.sqrt(mse)\n",
    "mse\n"
   ]
  },
  {
   "cell_type": "code",
   "execution_count": null,
   "metadata": {},
   "outputs": [],
   "source": [
    "# make predictions on test set\n",
    "y_pred = model.predict(X_test)\n",
    "y_pred\n"
   ]
  },
  {
   "cell_type": "code",
   "execution_count": null,
   "metadata": {},
   "outputs": [],
   "source": [
    "# reshape y_pred and y_test to 2D arrays\n",
    "y_pred_2d = y_pred.reshape(-1, 1)\n",
    "y_test_2d = y_test.values.reshape(-1, 1)\n"
   ]
  },
  {
   "cell_type": "code",
   "execution_count": null,
   "metadata": {},
   "outputs": [],
   "source": [
    "# # invert scaling on predicted and actual values\n",
    "# y_pred_scaled = scaler.inverse_transform(y_pred_2d)\n",
    "# y_test_scaled = scaler.inverse_transform(y_test_2d)\n"
   ]
  },
  {
   "cell_type": "code",
   "execution_count": null,
   "metadata": {},
   "outputs": [],
   "source": [
    "\n",
    "# # calculate root mean squared error (RMSE) on the unscaled values\n",
    "# mse = mean_squared_error(y_test_scaled, y_pred_scaled)\n",
    "# rmse = npy.sqrt(mse)\n",
    "\n",
    "# # print RMSE\n",
    "# print('Test RMSE:', rmse)\n"
   ]
  },
  {
   "cell_type": "code",
   "execution_count": null,
   "metadata": {},
   "outputs": [],
   "source": []
  }
 ],
 "metadata": {
  "kernelspec": {
   "display_name": "Python 3",
   "language": "python",
   "name": "python3"
  },
  "language_info": {
   "codemirror_mode": {
    "name": "ipython",
    "version": 3
   },
   "file_extension": ".py",
   "mimetype": "text/x-python",
   "name": "python",
   "nbconvert_exporter": "python",
   "pygments_lexer": "ipython3",
   "version": "3.10.4"
  },
  "orig_nbformat": 4,
  "vscode": {
   "interpreter": {
    "hash": "3ad933181bd8a04b432d3370b9dc3b0662ad032c4dfaa4e4f1596c548f763858"
   }
  }
 },
 "nbformat": 4,
 "nbformat_minor": 2
}
